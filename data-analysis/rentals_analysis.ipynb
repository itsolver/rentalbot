{
 "cells": [
  {
   "cell_type": "markdown",
   "metadata": {},
   "source": [
    "\n",
    "# Rentals analysis\n",
    "\n",
    "## Data munging"
   ]
  },
  {
   "cell_type": "code",
   "execution_count": 3,
   "metadata": {
    "collapsed": false
   },
   "outputs": [
    {
     "data": {
      "text/html": [
       "<div>\n",
       "<table border=\"1\" class=\"dataframe\">\n",
       "  <thead>\n",
       "    <tr style=\"text-align: right;\">\n",
       "      <th></th>\n",
       "      <th>allowances</th>\n",
       "      <th>bond_amount</th>\n",
       "      <th>date_available</th>\n",
       "      <th>description</th>\n",
       "      <th>keywords</th>\n",
       "      <th>nbn</th>\n",
       "      <th>num_bathrooms</th>\n",
       "      <th>num_bedrooms</th>\n",
       "      <th>num_carspaces</th>\n",
       "      <th>other_features</th>\n",
       "      <th>postcode</th>\n",
       "      <th>property_num</th>\n",
       "      <th>property_type</th>\n",
       "      <th>rent_amount</th>\n",
       "      <th>street_address</th>\n",
       "      <th>suburb</th>\n",
       "      <th>url</th>\n",
       "    </tr>\n",
       "  </thead>\n",
       "  <tbody>\n",
       "    <tr>\n",
       "      <th>0</th>\n",
       "      <td>NaN</td>\n",
       "      <td>[$737]</td>\n",
       "      <td>[Available Now]</td>\n",
       "      <td>UniLodge on A'Beckett is a student accommodati...</td>\n",
       "      <td>NaN</td>\n",
       "      <td>n</td>\n",
       "      <td>[7]</td>\n",
       "      <td>[]</td>\n",
       "      <td>[$737]</td>\n",
       "      <td>NaN</td>\n",
       "      <td>NaN</td>\n",
       "      <td>417284042</td>\n",
       "      <td>[Apartment]</td>\n",
       "      <td>$170 per week</td>\n",
       "      <td>[Twin Share Room/106-116 A'Beckett Street Melb...</td>\n",
       "      <td>NaN</td>\n",
       "      <td>http://www.realestate.com.au/property-apartmen...</td>\n",
       "    </tr>\n",
       "    <tr>\n",
       "      <th>1</th>\n",
       "      <td>NaN</td>\n",
       "      <td>[$824]</td>\n",
       "      <td>[Available Now]</td>\n",
       "      <td>ARRANGE AN INSPECTION TIME ONLINE - DETAILS BE...</td>\n",
       "      <td>NaN</td>\n",
       "      <td>fixed</td>\n",
       "      <td>[1]</td>\n",
       "      <td>[]</td>\n",
       "      <td>[$824]</td>\n",
       "      <td>NaN</td>\n",
       "      <td>NaN</td>\n",
       "      <td>417060338</td>\n",
       "      <td>[Studio]</td>\n",
       "      <td>$190 per week</td>\n",
       "      <td>[16/677 Park Street Brunswick]</td>\n",
       "      <td>NaN</td>\n",
       "      <td>http://www.realestate.com.au/property-studio-v...</td>\n",
       "    </tr>\n",
       "    <tr>\n",
       "      <th>2</th>\n",
       "      <td>NaN</td>\n",
       "      <td>[]</td>\n",
       "      <td>[Available Now]</td>\n",
       "      <td>Please note you must register to attend an ins...</td>\n",
       "      <td>NaN</td>\n",
       "      <td>fixed</td>\n",
       "      <td>[1]</td>\n",
       "      <td>[1]</td>\n",
       "      <td>0</td>\n",
       "      <td>NaN</td>\n",
       "      <td>NaN</td>\n",
       "      <td>410376323</td>\n",
       "      <td>[Unit]</td>\n",
       "      <td>$210 per week</td>\n",
       "      <td>[3/34 Pearson Street Brunswick]</td>\n",
       "      <td>NaN</td>\n",
       "      <td>http://www.realestate.com.au/property-unit-vic...</td>\n",
       "    </tr>\n",
       "    <tr>\n",
       "      <th>3</th>\n",
       "      <td>NaN</td>\n",
       "      <td>[$913]</td>\n",
       "      <td>[Mon 04-Jan-16]</td>\n",
       "      <td>One bedroom apartment featuring:\\n- Wall to wa...</td>\n",
       "      <td>NaN</td>\n",
       "      <td>n</td>\n",
       "      <td>[1]</td>\n",
       "      <td>[1]</td>\n",
       "      <td>[$913]</td>\n",
       "      <td>NaN</td>\n",
       "      <td>NaN</td>\n",
       "      <td>417306710</td>\n",
       "      <td>[Apartment]</td>\n",
       "      <td>$220 per week</td>\n",
       "      <td>[10/49 Farnham Street Flemington]</td>\n",
       "      <td>NaN</td>\n",
       "      <td>http://www.realestate.com.au/property-apartmen...</td>\n",
       "    </tr>\n",
       "    <tr>\n",
       "      <th>4</th>\n",
       "      <td>NaN</td>\n",
       "      <td>[$847]</td>\n",
       "      <td>[Available Now]</td>\n",
       "      <td>Shared Accommodation ! One big bright room is ...</td>\n",
       "      <td>NaN</td>\n",
       "      <td>n</td>\n",
       "      <td>[3]</td>\n",
       "      <td>[1]</td>\n",
       "      <td>[$847]</td>\n",
       "      <td>NaN</td>\n",
       "      <td>NaN</td>\n",
       "      <td>417402754</td>\n",
       "      <td>[House]</td>\n",
       "      <td>$195 per week</td>\n",
       "      <td>[5/59 Waltham St Flemington]</td>\n",
       "      <td>NaN</td>\n",
       "      <td>http://www.realestate.com.au/property-house-vi...</td>\n",
       "    </tr>\n",
       "  </tbody>\n",
       "</table>\n",
       "</div>"
      ],
      "text/plain": [
       "   allowances bond_amount   date_available  \\\n",
       "0         NaN      [$737]  [Available Now]   \n",
       "1         NaN      [$824]  [Available Now]   \n",
       "2         NaN          []  [Available Now]   \n",
       "3         NaN      [$913]  [Mon 04-Jan-16]   \n",
       "4         NaN      [$847]  [Available Now]   \n",
       "\n",
       "                                         description  keywords    nbn  \\\n",
       "0  UniLodge on A'Beckett is a student accommodati...       NaN      n   \n",
       "1  ARRANGE AN INSPECTION TIME ONLINE - DETAILS BE...       NaN  fixed   \n",
       "2  Please note you must register to attend an ins...       NaN  fixed   \n",
       "3  One bedroom apartment featuring:\\n- Wall to wa...       NaN      n   \n",
       "4  Shared Accommodation ! One big bright room is ...       NaN      n   \n",
       "\n",
       "  num_bathrooms num_bedrooms num_carspaces  other_features  postcode  \\\n",
       "0           [7]           []        [$737]             NaN       NaN   \n",
       "1           [1]           []        [$824]             NaN       NaN   \n",
       "2           [1]          [1]             0             NaN       NaN   \n",
       "3           [1]          [1]        [$913]             NaN       NaN   \n",
       "4           [3]          [1]        [$847]             NaN       NaN   \n",
       "\n",
       "   property_num property_type    rent_amount  \\\n",
       "0     417284042   [Apartment]  $170 per week   \n",
       "1     417060338      [Studio]  $190 per week   \n",
       "2     410376323        [Unit]  $210 per week   \n",
       "3     417306710   [Apartment]  $220 per week   \n",
       "4     417402754       [House]  $195 per week   \n",
       "\n",
       "                                      street_address  suburb  \\\n",
       "0  [Twin Share Room/106-116 A'Beckett Street Melb...     NaN   \n",
       "1                     [16/677 Park Street Brunswick]     NaN   \n",
       "2                    [3/34 Pearson Street Brunswick]     NaN   \n",
       "3                  [10/49 Farnham Street Flemington]     NaN   \n",
       "4                       [5/59 Waltham St Flemington]     NaN   \n",
       "\n",
       "                                                 url  \n",
       "0  http://www.realestate.com.au/property-apartmen...  \n",
       "1  http://www.realestate.com.au/property-studio-v...  \n",
       "2  http://www.realestate.com.au/property-unit-vic...  \n",
       "3  http://www.realestate.com.au/property-apartmen...  \n",
       "4  http://www.realestate.com.au/property-house-vi...  "
      ]
     },
     "execution_count": 3,
     "metadata": {},
     "output_type": "execute_result"
    }
   ],
   "source": [
    "%matplotlib inline\n",
    "from pandas import *\n",
    "\n",
    "data = read_json(\"../rentals/rentals.json\")\n",
    "data.head()"
   ]
  },
  {
   "cell_type": "code",
   "execution_count": 4,
   "metadata": {
    "collapsed": false
   },
   "outputs": [
    {
     "data": {
      "text/plain": [
       "0    $170 per week\n",
       "1    $190 per week\n",
       "2    $210 per week\n",
       "3    $220 per week\n",
       "4    $195 per week\n",
       "Name: rent_amount, dtype: object"
      ]
     },
     "execution_count": 4,
     "metadata": {},
     "output_type": "execute_result"
    }
   ],
   "source": [
    "data['rent_amount'].head()"
   ]
  },
  {
   "cell_type": "code",
   "execution_count": 11,
   "metadata": {
    "collapsed": false
   },
   "outputs": [
    {
     "data": {
      "text/plain": [
       "<matplotlib.axes._subplots.AxesSubplot at 0x7bdc110>"
      ]
     },
     "execution_count": 11,
     "metadata": {},
     "output_type": "execute_result"
    },
    {
     "data": {
      "image/png": "[encoded data removed]",
      "text/plain": [
       "<matplotlib.figure.Figure at 0x7a27ff0>"
      ]
     },
     "metadata": {},
     "output_type": "display_data"
    }
   ],
   "source": [
    "import re\n",
    "\n",
    "\n",
    "\"\"\"\n",
    "Extract the weekly rental amount in dollars\n",
    "from the free text rental_amount field\n",
    "\"\"\"\n",
    "def extract_rent(s):\n",
    "    return re.match(r\"\\D*(\\d+).*\", s).group(1)\n",
    "\n",
    "data['rent'] = data['rent_amount'].map(extract_rent)\n",
    "## integer value\n",
    "data['rent'] = data['rent'].astype('int64')\n",
    "## exploratory plot of rent amounts (histogram)\n",
    "data['rent'].hist(bins=50)"
   ]
  },
  {
   "cell_type": "code",
   "execution_count": null,
   "metadata": {
    "collapsed": true
   },
   "outputs": [],
   "source": []
  },
  {
   "cell_type": "code",
   "execution_count": 6,
   "metadata": {
    "collapsed": false
   },
   "outputs": [
    {
     "data": {
      "text/plain": [
       "0    106-116 A'Beckett Street Melbourne\n",
       "1          16/677 Park Street Brunswick\n",
       "2         3/34 Pearson Street Brunswick\n",
       "3       10/49 Farnham Street Flemington\n",
       "4            5/59 Waltham St Flemington\n",
       "Name: street_address, dtype: object"
      ]
     },
     "execution_count": 6,
     "metadata": {},
     "output_type": "execute_result"
    }
   ],
   "source": [
    "street_types = ['street','road','st','rd','parade','pde','place','pl','lane','way','esplanade', 'esplanade east','avenue','ave']\n",
    "def contains_known_street_type(s): pass\n",
    "\n",
    "\"\"\"\n",
    "Clean up the street address field\n",
    "Normalise street names and make it conform \n",
    "to postal address if possible\n",
    "\"\"\"\n",
    "def tidy_street_address(s):\n",
    "    s = s[0] # lose the array format\n",
    "    pattern = r\"\\D*(\\d.*)\" # starts with numeral\n",
    "    try: s = re.match(r\"\\D*(\\d+.*)\",s).group(1)\n",
    "    except: pass # doesn't conform so keep it as it is\n",
    "    return s\n",
    "\n",
    "street = data['street_address'].map(tidy_street_address)\n",
    "street.head()"
   ]
  },
  {
   "cell_type": "code",
   "execution_count": 7,
   "metadata": {
    "collapsed": false
   },
   "outputs": [
    {
     "data": {
      "text/plain": [
       "'http://www.realestate.com.au/property-apartment-vic-melbourne-417284042'"
      ]
     },
     "execution_count": 7,
     "metadata": {},
     "output_type": "execute_result"
    }
   ],
   "source": [
    "## we can pull the suburb name out of the url format, e.g.\n",
    "data['url'].irow(0)"
   ]
  },
  {
   "cell_type": "code",
   "execution_count": 8,
   "metadata": {
    "collapsed": false
   },
   "outputs": [
    {
     "data": {
      "text/plain": [
       "'http://www.realestate.com.au/property-unit-vic-brunswick+west-412783479'"
      ]
     },
     "execution_count": 8,
     "metadata": {},
     "output_type": "execute_result"
    }
   ],
   "source": [
    "data['url'].irow(1437)"
   ]
  },
  {
   "cell_type": "code",
   "execution_count": 9,
   "metadata": {
    "collapsed": false
   },
   "outputs": [],
   "source": [
    "\"\"\"\n",
    "Pull the suburb name out of the property details url\n",
    "\"\"\"\n",
    "def get_suburb(url):\n",
    "    return url.split('-')[3]\n",
    "\n",
    "data['suburb'] = data['url'].map(get_suburb)"
   ]
  },
  {
   "cell_type": "code",
   "execution_count": 10,
   "metadata": {
    "collapsed": false
   },
   "outputs": [
    {
     "data": {
      "text/plain": [
       "suburb\n",
       "abbotsford          28\n",
       "albert+park          5\n",
       "ascot+vale          37\n",
       "brunswick          111\n",
       "brunswick+east      46\n",
       "brunswick+west      65\n",
       "carlton            239\n",
       "carlton+north        5\n",
       "clifton+hill         7\n",
       "coburg              38\n",
       "collingwood         54\n",
       "docklands           12\n",
       "east+melbourne       7\n",
       "fitzroy             14\n",
       "fitzroy+north       20\n",
       "flemington          31\n",
       "footscray          122\n",
       "kensington          27\n",
       "maribyrnong         65\n",
       "melbourne          229\n",
       "middle+park          6\n",
       "moonee+ponds        31\n",
       "north+melbourne     76\n",
       "northcote           44\n",
       "parkville           20\n",
       "port+melbourne       8\n",
       "seddon              10\n",
       "south+melbourne     15\n",
       "southbank           34\n",
       "travancore          18\n",
       "west+melbourne      14\n",
       "Name: url, dtype: int64"
      ]
     },
     "execution_count": 10,
     "metadata": {},
     "output_type": "execute_result"
    }
   ],
   "source": [
    "## get list of suburbs \n",
    "g = data.groupby(\"suburb\")\n",
    "g.agg(\"count\")['url']"
   ]
  },
  {
   "cell_type": "code",
   "execution_count": null,
   "metadata": {
    "collapsed": true
   },
   "outputs": [],
   "source": []
  }
 ],
 "metadata": {
  "kernelspec": {
   "display_name": "Python 3",
   "language": "python",
   "name": "python3"
  },
  "language_info": {
   "codemirror_mode": {
    "name": "ipython",
    "version": 3
   },
   "file_extension": ".py",
   "mimetype": "text/x-python",
   "name": "python",
   "nbconvert_exporter": "python",
   "pygments_lexer": "ipython3",
   "version": "3.4.3"
  }
 },
 "nbformat": 4,
 "nbformat_minor": 0
}
